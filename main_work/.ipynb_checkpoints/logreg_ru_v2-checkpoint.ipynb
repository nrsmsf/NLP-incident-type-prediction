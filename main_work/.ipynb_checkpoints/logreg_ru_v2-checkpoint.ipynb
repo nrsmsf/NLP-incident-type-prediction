{
 "cells": [
  {
   "cell_type": "code",
   "execution_count": 20,
   "id": "abandoned-wrong",
   "metadata": {},
   "outputs": [],
   "source": [
    "import pandas as pd\n",
    "\n",
    "from sklearn.model_selection import train_test_split\n",
    "from sklearn.linear_model import LogisticRegression\n",
    "from sklearn import metrics\n",
    "import numpy as np\n",
    "import matplotlib.pyplot as plt\n",
    "import seaborn as sns\n",
    "from sklearn.metrics import roc_curve, roc_auc_score\n",
    "\n",
    "\n",
    "%matplotlib inline"
   ]
  },
  {
   "cell_type": "code",
   "execution_count": 21,
   "id": "israeli-heaven",
   "metadata": {},
   "outputs": [
    {
     "data": {
      "text/html": [
       "<div>\n",
       "<style scoped>\n",
       "    .dataframe tbody tr th:only-of-type {\n",
       "        vertical-align: middle;\n",
       "    }\n",
       "\n",
       "    .dataframe tbody tr th {\n",
       "        vertical-align: top;\n",
       "    }\n",
       "\n",
       "    .dataframe thead th {\n",
       "        text-align: right;\n",
       "    }\n",
       "</style>\n",
       "<table border=\"1\" class=\"dataframe\">\n",
       "  <thead>\n",
       "    <tr style=\"text-align: right;\">\n",
       "      <th></th>\n",
       "      <th>Incident_Number</th>\n",
       "      <th>clus0</th>\n",
       "      <th>clus1</th>\n",
       "      <th>clus2</th>\n",
       "      <th>clus3</th>\n",
       "      <th>clus4</th>\n",
       "      <th>clus5</th>\n",
       "      <th>clus6</th>\n",
       "      <th>clus7</th>\n",
       "      <th>clus8</th>\n",
       "      <th>...</th>\n",
       "      <th>clus11</th>\n",
       "      <th>clus12</th>\n",
       "      <th>clus13</th>\n",
       "      <th>clus14</th>\n",
       "      <th>clus15</th>\n",
       "      <th>clus16</th>\n",
       "      <th>clus17</th>\n",
       "      <th>clus18</th>\n",
       "      <th>clus19</th>\n",
       "      <th>incidenType</th>\n",
       "    </tr>\n",
       "  </thead>\n",
       "  <tbody>\n",
       "    <tr>\n",
       "      <th>0</th>\n",
       "      <td>INC000001519273</td>\n",
       "      <td>1.021816</td>\n",
       "      <td>1.072850</td>\n",
       "      <td>1.279533</td>\n",
       "      <td>1.387559</td>\n",
       "      <td>1.032203</td>\n",
       "      <td>1.380312</td>\n",
       "      <td>1.384832</td>\n",
       "      <td>0.975785</td>\n",
       "      <td>1.285788</td>\n",
       "      <td>...</td>\n",
       "      <td>1.011147</td>\n",
       "      <td>0.998272</td>\n",
       "      <td>1.054176</td>\n",
       "      <td>1.024156</td>\n",
       "      <td>1.035649</td>\n",
       "      <td>1.066760</td>\n",
       "      <td>1.052430</td>\n",
       "      <td>1.073079</td>\n",
       "      <td>1.065592</td>\n",
       "      <td>Request</td>\n",
       "    </tr>\n",
       "    <tr>\n",
       "      <th>1</th>\n",
       "      <td>INC000001519276</td>\n",
       "      <td>1.019920</td>\n",
       "      <td>1.066228</td>\n",
       "      <td>1.279609</td>\n",
       "      <td>1.366732</td>\n",
       "      <td>1.023912</td>\n",
       "      <td>1.380312</td>\n",
       "      <td>1.362766</td>\n",
       "      <td>1.015242</td>\n",
       "      <td>1.285788</td>\n",
       "      <td>...</td>\n",
       "      <td>0.995653</td>\n",
       "      <td>0.999006</td>\n",
       "      <td>1.020951</td>\n",
       "      <td>1.006140</td>\n",
       "      <td>1.034362</td>\n",
       "      <td>1.057150</td>\n",
       "      <td>1.037852</td>\n",
       "      <td>1.075064</td>\n",
       "      <td>1.054566</td>\n",
       "      <td>Incident</td>\n",
       "    </tr>\n",
       "    <tr>\n",
       "      <th>2</th>\n",
       "      <td>INC000001519283</td>\n",
       "      <td>1.013021</td>\n",
       "      <td>1.066665</td>\n",
       "      <td>1.204334</td>\n",
       "      <td>1.369795</td>\n",
       "      <td>1.021968</td>\n",
       "      <td>1.360126</td>\n",
       "      <td>1.366013</td>\n",
       "      <td>1.004825</td>\n",
       "      <td>1.285788</td>\n",
       "      <td>...</td>\n",
       "      <td>0.997121</td>\n",
       "      <td>0.993738</td>\n",
       "      <td>1.040456</td>\n",
       "      <td>1.006521</td>\n",
       "      <td>0.910314</td>\n",
       "      <td>1.051659</td>\n",
       "      <td>1.037188</td>\n",
       "      <td>1.068665</td>\n",
       "      <td>1.050866</td>\n",
       "      <td>Incident</td>\n",
       "    </tr>\n",
       "    <tr>\n",
       "      <th>3</th>\n",
       "      <td>INC000001519299</td>\n",
       "      <td>1.007513</td>\n",
       "      <td>1.050546</td>\n",
       "      <td>1.240233</td>\n",
       "      <td>1.387559</td>\n",
       "      <td>1.011451</td>\n",
       "      <td>1.380312</td>\n",
       "      <td>1.384832</td>\n",
       "      <td>0.998203</td>\n",
       "      <td>1.285636</td>\n",
       "      <td>...</td>\n",
       "      <td>0.968797</td>\n",
       "      <td>0.990509</td>\n",
       "      <td>0.918338</td>\n",
       "      <td>0.994454</td>\n",
       "      <td>0.980878</td>\n",
       "      <td>1.022897</td>\n",
       "      <td>0.985670</td>\n",
       "      <td>1.060815</td>\n",
       "      <td>0.938210</td>\n",
       "      <td>Incident</td>\n",
       "    </tr>\n",
       "    <tr>\n",
       "      <th>4</th>\n",
       "      <td>INC000001520136</td>\n",
       "      <td>1.023411</td>\n",
       "      <td>1.073342</td>\n",
       "      <td>1.276957</td>\n",
       "      <td>1.367240</td>\n",
       "      <td>1.033154</td>\n",
       "      <td>1.380312</td>\n",
       "      <td>1.363305</td>\n",
       "      <td>1.024950</td>\n",
       "      <td>1.285788</td>\n",
       "      <td>...</td>\n",
       "      <td>1.010468</td>\n",
       "      <td>0.999318</td>\n",
       "      <td>1.063505</td>\n",
       "      <td>1.023985</td>\n",
       "      <td>1.032681</td>\n",
       "      <td>1.068123</td>\n",
       "      <td>1.052386</td>\n",
       "      <td>1.026300</td>\n",
       "      <td>1.069464</td>\n",
       "      <td>Request</td>\n",
       "    </tr>\n",
       "  </tbody>\n",
       "</table>\n",
       "<p>5 rows × 22 columns</p>\n",
       "</div>"
      ],
      "text/plain": [
       "   Incident_Number     clus0     clus1     clus2     clus3     clus4  \\\n",
       "0  INC000001519273  1.021816  1.072850  1.279533  1.387559  1.032203   \n",
       "1  INC000001519276  1.019920  1.066228  1.279609  1.366732  1.023912   \n",
       "2  INC000001519283  1.013021  1.066665  1.204334  1.369795  1.021968   \n",
       "3  INC000001519299  1.007513  1.050546  1.240233  1.387559  1.011451   \n",
       "4  INC000001520136  1.023411  1.073342  1.276957  1.367240  1.033154   \n",
       "\n",
       "      clus5     clus6     clus7     clus8  ...    clus11    clus12    clus13  \\\n",
       "0  1.380312  1.384832  0.975785  1.285788  ...  1.011147  0.998272  1.054176   \n",
       "1  1.380312  1.362766  1.015242  1.285788  ...  0.995653  0.999006  1.020951   \n",
       "2  1.360126  1.366013  1.004825  1.285788  ...  0.997121  0.993738  1.040456   \n",
       "3  1.380312  1.384832  0.998203  1.285636  ...  0.968797  0.990509  0.918338   \n",
       "4  1.380312  1.363305  1.024950  1.285788  ...  1.010468  0.999318  1.063505   \n",
       "\n",
       "     clus14    clus15    clus16    clus17    clus18    clus19  incidenType  \n",
       "0  1.024156  1.035649  1.066760  1.052430  1.073079  1.065592      Request  \n",
       "1  1.006140  1.034362  1.057150  1.037852  1.075064  1.054566     Incident  \n",
       "2  1.006521  0.910314  1.051659  1.037188  1.068665  1.050866     Incident  \n",
       "3  0.994454  0.980878  1.022897  0.985670  1.060815  0.938210     Incident  \n",
       "4  1.023985  1.032681  1.068123  1.052386  1.026300  1.069464      Request  \n",
       "\n",
       "[5 rows x 22 columns]"
      ]
     },
     "execution_count": 21,
     "metadata": {},
     "output_type": "execute_result"
    }
   ],
   "source": [
    "df = pd.read_excel('./new_distance_and_inctype_v2.xlsx')\n",
    "df = df[df.incidenType != 'Demand']\n",
    "df.head()"
   ]
  },
  {
   "cell_type": "code",
   "execution_count": 22,
   "id": "lasting-jenny",
   "metadata": {},
   "outputs": [],
   "source": [
    "X_train, X_test, y_train, y_test = train_test_split(df[\n",
    "                    ['clus0',\n",
    "                      'clus1',\n",
    "                      'clus2',\n",
    "                      'clus3',\n",
    "                      'clus4',\n",
    "                      'clus5',\n",
    "                      'clus6',\n",
    "                      'clus7',\n",
    "                      'clus8',\n",
    "                      'clus9',\n",
    "                      'clus10',\n",
    "                      'clus11',\n",
    "                      'clus12',\n",
    "                      'clus13',\n",
    "                      'clus14',\n",
    "                      'clus15',\n",
    "                      'clus16',\n",
    "                      'clus17',\n",
    "                      'clus18',\n",
    "                      'clus19']\n",
    "                                ],df.incidenType,train_size=0.8)\n"
   ]
  },
  {
   "cell_type": "code",
   "execution_count": 23,
   "id": "commercial-wichita",
   "metadata": {},
   "outputs": [
    {
     "data": {
      "text/plain": [
       "Request     0.731433\n",
       "Incident    0.268567\n",
       "Name: incidenType, dtype: float64"
      ]
     },
     "execution_count": 23,
     "metadata": {},
     "output_type": "execute_result"
    }
   ],
   "source": [
    "(y_test.value_counts() / len(y_test))\n"
   ]
  },
  {
   "cell_type": "code",
   "execution_count": 24,
   "id": "elementary-understanding",
   "metadata": {},
   "outputs": [],
   "source": [
    "model = LogisticRegression(solver='liblinear')\n"
   ]
  },
  {
   "cell_type": "code",
   "execution_count": 25,
   "id": "baking-montreal",
   "metadata": {},
   "outputs": [
    {
     "data": {
      "text/plain": [
       "LogisticRegression(solver='liblinear')"
      ]
     },
     "execution_count": 25,
     "metadata": {},
     "output_type": "execute_result"
    }
   ],
   "source": [
    "model.fit(X_train, y_train)\n"
   ]
  },
  {
   "cell_type": "code",
   "execution_count": 26,
   "id": "pediatric-integration",
   "metadata": {},
   "outputs": [],
   "source": [
    "y_predicted = model.predict(X_test)\n"
   ]
  },
  {
   "cell_type": "code",
   "execution_count": 27,
   "id": "normal-fifteen",
   "metadata": {
    "tags": []
   },
   "outputs": [],
   "source": [
    "y_pred_proba = model.predict_proba(X_test)\n"
   ]
  },
  {
   "cell_type": "code",
   "execution_count": 28,
   "id": "touched-homeless",
   "metadata": {},
   "outputs": [
    {
     "name": "stdout",
     "output_type": "stream",
     "text": [
      "Точность модели: 77.12%\n"
     ]
    }
   ],
   "source": [
    "score = model.score(X_test,y_test)\n",
    "score_percent = score * 100\n",
    "print('Точность модели: {score_percent:.2f}%'.format(score_percent=score_percent))"
   ]
  },
  {
   "cell_type": "code",
   "execution_count": 29,
   "id": "representative-diamond",
   "metadata": {},
   "outputs": [
    {
     "data": {
      "text/plain": [
       "array(['Request', 'Request', 'Request', 'Request', 'Request', 'Incident',\n",
       "       'Request', 'Incident', 'Request', 'Request', 'Request', 'Request',\n",
       "       'Request', 'Request', 'Incident', 'Request', 'Request', 'Request',\n",
       "       'Request', 'Request', 'Request', 'Request', 'Request', 'Request',\n",
       "       'Incident', 'Request', 'Request', 'Incident', 'Request', 'Request',\n",
       "       'Request', 'Request', 'Request', 'Request', 'Request', 'Request',\n",
       "       'Request', 'Request', 'Request', 'Request', 'Request', 'Request',\n",
       "       'Request', 'Request', 'Request', 'Request', 'Request', 'Request',\n",
       "       'Incident', 'Request', 'Incident', 'Request', 'Request', 'Request',\n",
       "       'Incident', 'Request', 'Request', 'Request', 'Request', 'Request',\n",
       "       'Request', 'Request', 'Request', 'Request', 'Request', 'Request',\n",
       "       'Request', 'Request', 'Request', 'Request', 'Request', 'Request',\n",
       "       'Request', 'Request', 'Request', 'Request', 'Request', 'Request',\n",
       "       'Request', 'Request', 'Request', 'Request', 'Request', 'Request',\n",
       "       'Request', 'Incident', 'Request', 'Request', 'Request', 'Request',\n",
       "       'Request', 'Request', 'Request', 'Request', 'Request', 'Request',\n",
       "       'Request', 'Request', 'Request', 'Request'], dtype=object)"
      ]
     },
     "execution_count": 29,
     "metadata": {},
     "output_type": "execute_result"
    }
   ],
   "source": [
    "y_predicted[:100]\n"
   ]
  },
  {
   "cell_type": "code",
   "execution_count": 30,
   "id": "adult-vegetable",
   "metadata": {},
   "outputs": [
    {
     "data": {
      "text/plain": [
       "Text(0.5, 257.44, 'Predicted label')"
      ]
     },
     "execution_count": 30,
     "metadata": {},
     "output_type": "execute_result"
    },
    {
     "data": {
      "image/png": "[encoded data removed]",
      "text/plain": [
       "<Figure size 432x288 with 2 Axes>"
      ]
     },
     "metadata": {
      "needs_background": "light"
     },
     "output_type": "display_data"
    }
   ],
   "source": [
    "cnf_matrix = metrics.confusion_matrix(y_test, y_predicted)\n",
    "class_names=['Incident', 'Request'] # name  of classes\n",
    "fig, ax = plt.subplots()\n",
    "tick_marks = np.arange(len(class_names))\n",
    "plt.xticks(tick_marks, class_names)\n",
    "plt.yticks(tick_marks, class_names)\n",
    "# create heatmap\n",
    "sns.heatmap(pd.DataFrame(cnf_matrix), annot=True, cmap=\"YlGnBu\" ,fmt='g')\n",
    "ax.xaxis.set_label_position(\"top\")\n",
    "plt.tight_layout()\n",
    "plt.title('Confusion matrix', y=1.1)\n",
    "plt.ylabel('Actual label')\n",
    "plt.xlabel('Predicted label')"
   ]
  },
  {
   "cell_type": "code",
   "execution_count": null,
   "id": "adjusted-duration",
   "metadata": {},
   "outputs": [],
   "source": []
  }
 ],
 "metadata": {
  "kernelspec": {
   "display_name": "Python 3",
   "language": "python",
   "name": "python3"
  },
  "language_info": {
   "codemirror_mode": {
    "name": "ipython",
    "version": 3
   },
   "file_extension": ".py",
   "mimetype": "text/x-python",
   "name": "python",
   "nbconvert_exporter": "python",
   "pygments_lexer": "ipython3",
   "version": "3.8.3"
  }
 },
 "nbformat": 4,
 "nbformat_minor": 5
}
