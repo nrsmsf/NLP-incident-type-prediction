{
 "cells": [
  {
   "cell_type": "code",
   "execution_count": 25,
   "id": "complete-contact",
   "metadata": {},
   "outputs": [],
   "source": [
    "import pandas as pd\n"
   ]
  },
  {
   "cell_type": "code",
   "execution_count": 26,
   "id": "sticky-general",
   "metadata": {},
   "outputs": [],
   "source": [
    "file = \"./new_tokened_and_cleaned.csv\"\n",
    "big_dataset = \"../data/04-01_06-30sDate_80.xlsx\"\n"
   ]
  },
  {
   "cell_type": "code",
   "execution_count": 28,
   "id": "comfortable-championship",
   "metadata": {},
   "outputs": [
    {
     "data": {
      "text/plain": [
       "(6776, 6)"
      ]
     },
     "execution_count": 28,
     "metadata": {},
     "output_type": "execute_result"
    }
   ],
   "source": [
    "df = pd.read_csv(file, dtype=str, sep=';')\n",
    "df.shape"
   ]
  },
  {
   "cell_type": "code",
   "execution_count": 29,
   "id": "coupled-vessel",
   "metadata": {},
   "outputs": [
    {
     "data": {
      "text/plain": [
       "(6725, 6)"
      ]
     },
     "execution_count": 29,
     "metadata": {},
     "output_type": "execute_result"
    }
   ],
   "source": [
    "df['length'] = df['cleanedtext'].apply(lambda x: len(x))\n",
    "cond = df['length'] > 40\n",
    "df = df[cond]\n",
    "df = df.drop('length', 1)\n",
    "\n",
    "df.shape"
   ]
  },
  {
   "cell_type": "code",
   "execution_count": 31,
   "id": "loving-plain",
   "metadata": {},
   "outputs": [],
   "source": [
    "df_big = pd.read_excel(big_dataset, dtype=str)"
   ]
  },
  {
   "cell_type": "code",
   "execution_count": 33,
   "id": "pending-characterization",
   "metadata": {},
   "outputs": [],
   "source": [
    "\n",
    "df_big.dropna(subset = [\"incidenType\"], inplace=True)\n"
   ]
  },
  {
   "cell_type": "code",
   "execution_count": 35,
   "id": "potential-asset",
   "metadata": {},
   "outputs": [
    {
     "data": {
      "text/plain": [
       "(12900, 2)"
      ]
     },
     "execution_count": 35,
     "metadata": {},
     "output_type": "execute_result"
    }
   ],
   "source": [
    "df_big.shape"
   ]
  },
  {
   "cell_type": "code",
   "execution_count": 36,
   "id": "crude-excuse",
   "metadata": {},
   "outputs": [],
   "source": [
    "df_with_inc = pd.merge(df, df_big, on=['Incident_Number'])"
   ]
  },
  {
   "cell_type": "code",
   "execution_count": 37,
   "id": "affecting-assembly",
   "metadata": {},
   "outputs": [
    {
     "data": {
      "text/plain": [
       "(6725, 7)"
      ]
     },
     "execution_count": 37,
     "metadata": {},
     "output_type": "execute_result"
    }
   ],
   "source": [
    "df_with_inc.shape"
   ]
  },
  {
   "cell_type": "code",
   "execution_count": 39,
   "id": "angry-yesterday",
   "metadata": {},
   "outputs": [],
   "source": [
    "df_with_inc.to_excel('new_no_clusters_inctype.xlsx', index=False)"
   ]
  },
  {
   "cell_type": "code",
   "execution_count": null,
   "id": "purple-elder",
   "metadata": {},
   "outputs": [],
   "source": []
  }
 ],
 "metadata": {
  "kernelspec": {
   "display_name": "Python 3",
   "language": "python",
   "name": "python3"
  },
  "language_info": {
   "codemirror_mode": {
    "name": "ipython",
    "version": 3
   },
   "file_extension": ".py",
   "mimetype": "text/x-python",
   "name": "python",
   "nbconvert_exporter": "python",
   "pygments_lexer": "ipython3",
   "version": "3.8.3"
  }
 },
 "nbformat": 4,
 "nbformat_minor": 5
}
