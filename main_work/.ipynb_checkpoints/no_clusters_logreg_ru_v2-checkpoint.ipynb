{
 "cells": [
  {
   "cell_type": "code",
   "execution_count": 98,
   "id": "greatest-winter",
   "metadata": {},
   "outputs": [],
   "source": [
    "import pandas as pd\n",
    "\n",
    "from sklearn.model_selection import train_test_split\n",
    "from sklearn.linear_model import LogisticRegression\n",
    "from sklearn.feature_extraction.text import TfidfVectorizer\n",
    "from sklearn.metrics import classification_report, accuracy_score\n",
    "from sklearn import metrics\n",
    "import numpy as np\n",
    "import matplotlib.pyplot as plt\n",
    "import seaborn as sns\n",
    "from sklearn.metrics import roc_curve, roc_auc_score\n",
    "from sklearn.pipeline import make_pipeline\n",
    "\n",
    "\n",
    "%matplotlib inline"
   ]
  },
  {
   "cell_type": "code",
   "execution_count": null,
   "id": "handed-helmet",
   "metadata": {},
   "outputs": [],
   "source": [
    "df = pd.read_excel('./new_no_clusters_inctype.xlsx')\n",
    "df.head()"
   ]
  },
  {
   "cell_type": "code",
   "execution_count": null,
   "id": "checked-washington",
   "metadata": {},
   "outputs": [],
   "source": [
    "df_test = pd.read_excel('./newtest_no_clusters_inctype.xlsx')\n",
    "df.head()"
   ]
  },
  {
   "cell_type": "code",
   "execution_count": 101,
   "id": "lined-suspension",
   "metadata": {},
   "outputs": [
    {
     "data": {
      "text/plain": [
       "(1647, 7)"
      ]
     },
     "execution_count": 101,
     "metadata": {},
     "output_type": "execute_result"
    }
   ],
   "source": [
    "df_test.shape"
   ]
  },
  {
   "cell_type": "code",
   "execution_count": 102,
   "id": "arbitrary-snapshot",
   "metadata": {},
   "outputs": [],
   "source": [
    "df = df[df.incidenType != 'Demand']\n"
   ]
  },
  {
   "cell_type": "code",
   "execution_count": 103,
   "id": "facial-certificate",
   "metadata": {},
   "outputs": [],
   "source": [
    "\n",
    "df_test = df_test[df_test.incidenType != 'Demand']\n"
   ]
  },
  {
   "cell_type": "code",
   "execution_count": 104,
   "id": "expensive-health",
   "metadata": {},
   "outputs": [
    {
     "data": {
      "text/plain": [
       "(5932, 7)"
      ]
     },
     "execution_count": 104,
     "metadata": {},
     "output_type": "execute_result"
    }
   ],
   "source": [
    "df_train.shape"
   ]
  },
  {
   "cell_type": "code",
   "execution_count": 105,
   "id": "driven-bracelet",
   "metadata": {},
   "outputs": [],
   "source": [
    "#df_train, df_test = df.iloc[:-733], df.iloc[-233:]"
   ]
  },
  {
   "cell_type": "code",
   "execution_count": 106,
   "id": "disturbed-demonstration",
   "metadata": {},
   "outputs": [],
   "source": [
    "def train_model(x_train, y_train, x_test, y_test, vect, clf):\n",
    "    pipe = make_pipeline(vect, clf)\n",
    "    pipe.fit(x_train, y_train)\n",
    "    preds = pipe.predict(x_test)\n",
    "    print((y_test.value_counts() / len(y_test)), '\\n')\n",
    "    print(classification_report(y_test, preds))\n",
    "    return pipe"
   ]
  },
  {
   "cell_type": "code",
   "execution_count": 109,
   "id": "pacific-genesis",
   "metadata": {},
   "outputs": [
    {
     "name": "stdout",
     "output_type": "stream",
     "text": [
      "Request     0.696691\n",
      "Incident    0.303309\n",
      "Name: incidenType, dtype: float64 \n",
      "\n",
      "              precision    recall  f1-score   support\n",
      "\n",
      "    Incident       0.78      0.64      0.70       495\n",
      "     Request       0.85      0.92      0.89      1137\n",
      "\n",
      "    accuracy                           0.83      1632\n",
      "   macro avg       0.81      0.78      0.79      1632\n",
      "weighted avg       0.83      0.83      0.83      1632\n",
      "\n"
     ]
    }
   ],
   "source": [
    "model = train_model(df_train.cleanedtext, df_train.incidenType, \n",
    "            df_test.cleanedtext, df_test.incidenType, \n",
    "            TfidfVectorizer(max_features=10000, ngram_range=(1,3)), LogisticRegression(C=15, max_iter=10000))"
   ]
  },
  {
   "cell_type": "code",
   "execution_count": 108,
   "id": "small-george",
   "metadata": {},
   "outputs": [],
   "source": [
    "# https://medium.com/@annabiancajones/sentiment-analysis-on-reviews-feature-extraction-and-logistic-regression-43a29635cc81\n"
   ]
  },
  {
   "cell_type": "code",
   "execution_count": null,
   "id": "continuous-amateur",
   "metadata": {},
   "outputs": [],
   "source": []
  }
 ],
 "metadata": {
  "kernelspec": {
   "display_name": "Python 3",
   "language": "python",
   "name": "python3"
  },
  "language_info": {
   "codemirror_mode": {
    "name": "ipython",
    "version": 3
   },
   "file_extension": ".py",
   "mimetype": "text/x-python",
   "name": "python",
   "nbconvert_exporter": "python",
   "pygments_lexer": "ipython3",
   "version": "3.8.3"
  }
 },
 "nbformat": 4,
 "nbformat_minor": 5
}
