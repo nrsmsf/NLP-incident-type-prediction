{
 "cells": [
  {
   "cell_type": "code",
   "execution_count": 6,
   "id": "stretch-pharmaceutical",
   "metadata": {},
   "outputs": [],
   "source": [
    "import pandas as pd\n",
    "import numpy as np\n",
    "import matplotlib.pyplot as plt\n",
    "import langdetect\n",
    "\n",
    "from tokenizing_v2 import cleaning_and_tokenize\n",
    "from pathlib import Path\n",
    "from utils import *"
   ]
  },
  {
   "cell_type": "code",
   "execution_count": 2,
   "id": "minor-croatia",
   "metadata": {},
   "outputs": [],
   "source": [
    "data_path = Path(\"./data/\")\n",
    "my_file = data_path/\"04-01_06-30sDate_80.xlsx\""
   ]
  },
  {
   "cell_type": "code",
   "execution_count": 3,
   "id": "dimensional-spank",
   "metadata": {},
   "outputs": [
    {
     "data": {
      "text/plain": [
       "(12900, 14)"
      ]
     },
     "execution_count": 3,
     "metadata": {},
     "output_type": "execute_result"
    }
   ],
   "source": [
    "#открываем файл, строки в формате str\n",
    "df = pd.read_excel(my_file, dtype=str)\n",
    "\n",
    "df.shape\n"
   ]
  },
  {
   "cell_type": "code",
   "execution_count": 5,
   "id": "adult-activity",
   "metadata": {},
   "outputs": [
    {
     "data": {
      "text/plain": [
       "(12892, 3)"
      ]
     },
     "execution_count": 5,
     "metadata": {},
     "output_type": "execute_result"
    }
   ],
   "source": [
    "#удаляем ненужные столбцы и пустые поля\n",
    "\n",
    "df.dropna(subset = [\"Description\"], inplace=True)\n",
    "df.dropna(subset = [\"Detailed_Decription\"], inplace=True)\n",
    "df.fillna('0')\n",
    "\n",
    "df.shape\n"
   ]
  },
  {
   "cell_type": "code",
   "execution_count": 7,
   "id": "intelligent-wages",
   "metadata": {},
   "outputs": [
    {
     "data": {
      "text/plain": [
       "(12892, 4)"
      ]
     },
     "execution_count": 7,
     "metadata": {},
     "output_type": "execute_result"
    }
   ],
   "source": [
    "#делаем общий текст - название запроса и сам запрос\n",
    "df[\"fulltext\"] = df[\"Description\"] + \" \" + df[\"Detailed_Decription\"]\n",
    "df.shape\n"
   ]
  },
  {
   "cell_type": "code",
   "execution_count": 8,
   "id": "functional-holder",
   "metadata": {},
   "outputs": [],
   "source": [
    "#добавляем колонку с определенным языком для каждой строки\n",
    "df[\"lang\"] = df['fulltext'].apply(langdetect.detect)\n",
    "#и удаляем ненужные столбцы еще раз\n",
    "df.drop(columns=['Description', 'Detailed_Decription'\n",
    "                ], inplace=True)\n"
   ]
  },
  {
   "cell_type": "code",
   "execution_count": 10,
   "id": "typical-oasis",
   "metadata": {},
   "outputs": [],
   "source": [
    "#создаем df, содержащий только русский и только английский язык\n",
    "df_ru = df[df.lang == 'ru']\n",
    "df_en = df[df.lang == 'en']\n"
   ]
  },
  {
   "cell_type": "code",
   "execution_count": 12,
   "id": "promising-paint",
   "metadata": {},
   "outputs": [
    {
     "data": {
      "text/plain": [
       "(6756, 3)"
      ]
     },
     "execution_count": 12,
     "metadata": {},
     "output_type": "execute_result"
    }
   ],
   "source": [
    "df_ru.shape"
   ]
  },
  {
   "cell_type": "code",
   "execution_count": null,
   "id": "widespread-republican",
   "metadata": {},
   "outputs": [],
   "source": [
    "df_en.head()"
   ]
  },
  {
   "cell_type": "code",
   "execution_count": 14,
   "id": "increasing-harbor",
   "metadata": {},
   "outputs": [
    {
     "data": {
      "text/plain": [
       "(4369, 3)"
      ]
     },
     "execution_count": 14,
     "metadata": {},
     "output_type": "execute_result"
    }
   ],
   "source": [
    "df_en.shape"
   ]
  },
  {
   "cell_type": "code",
   "execution_count": null,
   "id": "powered-carnival",
   "metadata": {
    "tags": []
   },
   "outputs": [],
   "source": [
    "cleaned_array_en = []\n",
    "for x in df_en['fulltext']:\n",
    "    tokenized_row_str = cleaning_and_tokenize(x, 'en')\n",
    "    cleaned_array_en.append(tokenized_row_str)\n"
   ]
  },
  {
   "cell_type": "code",
   "execution_count": 16,
   "id": "bored-visibility",
   "metadata": {},
   "outputs": [],
   "source": [
    "\n",
    "assigned_df_en = df_en.assign(cleanedtext=cleaned_array_en)\n"
   ]
  },
  {
   "cell_type": "code",
   "execution_count": null,
   "id": "academic-switch",
   "metadata": {},
   "outputs": [],
   "source": [
    "assigned_df_en.head()"
   ]
  },
  {
   "cell_type": "code",
   "execution_count": 18,
   "id": "controlled-discretion",
   "metadata": {},
   "outputs": [],
   "source": [
    "assigned_df_en.to_csv('inc_eng_cleaned_text.csv', index=False )"
   ]
  },
  {
   "cell_type": "code",
   "execution_count": null,
   "id": "acquired-fetish",
   "metadata": {
    "tags": []
   },
   "outputs": [],
   "source": [
    "cleaned_array_ru = []\n",
    "for x in df_ru['fulltext']:\n",
    "    tokenized_row_str = cleaning_and_tokenize(x, 'ru')\n",
    "    cleaned_array_ru.append(tokenized_row_str)\n"
   ]
  },
  {
   "cell_type": "code",
   "execution_count": 20,
   "id": "formed-music",
   "metadata": {},
   "outputs": [],
   "source": [
    "assigned_df_ru = df_ru.assign(cleanedtext=cleaned_array_ru)\n"
   ]
  },
  {
   "cell_type": "code",
   "execution_count": null,
   "id": "pressed-brave",
   "metadata": {},
   "outputs": [],
   "source": [
    "assigned_df_ru.head()"
   ]
  },
  {
   "cell_type": "code",
   "execution_count": 22,
   "id": "accurate-water",
   "metadata": {},
   "outputs": [],
   "source": [
    "assigned_df_ru.to_csv('inc_rus_cleaned_text.csv', index=False )\n"
   ]
  }
 ],
 "metadata": {
  "kernelspec": {
   "display_name": "Python 3",
   "language": "python",
   "name": "python3"
  },
  "language_info": {
   "codemirror_mode": {
    "name": "ipython",
    "version": 3
   },
   "file_extension": ".py",
   "mimetype": "text/x-python",
   "name": "python",
   "nbconvert_exporter": "python",
   "pygments_lexer": "ipython3",
   "version": "3.8.3"
  }
 },
 "nbformat": 4,
 "nbformat_minor": 5
}
