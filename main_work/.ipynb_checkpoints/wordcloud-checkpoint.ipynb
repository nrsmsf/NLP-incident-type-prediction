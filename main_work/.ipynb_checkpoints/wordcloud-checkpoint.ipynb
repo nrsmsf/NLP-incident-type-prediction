{
 "cells": [
  {
   "cell_type": "code",
   "execution_count": 1,
   "id": "alike-craft",
   "metadata": {},
   "outputs": [],
   "source": [
    "import pandas as pd\n",
    "from wordcloud import WordCloud, STOPWORDS\n",
    "import matplotlib.pyplot as plt"
   ]
  },
  {
   "cell_type": "code",
   "execution_count": 2,
   "id": "processed-creator",
   "metadata": {},
   "outputs": [],
   "source": [
    "df = pd.read_csv(\"tokened_and_cleaned_new.csv\",dtype=str , sep=';')"
   ]
  },
  {
   "cell_type": "code",
   "execution_count": null,
   "id": "younger-telescope",
   "metadata": {},
   "outputs": [],
   "source": [
    "df.head()"
   ]
  },
  {
   "cell_type": "code",
   "execution_count": 4,
   "id": "academic-walnut",
   "metadata": {},
   "outputs": [
    {
     "data": {
      "text/plain": [
       "(6765, 6)"
      ]
     },
     "execution_count": 4,
     "metadata": {},
     "output_type": "execute_result"
    }
   ],
   "source": [
    "df.shape"
   ]
  },
  {
   "cell_type": "code",
   "execution_count": 43,
   "id": "fatal-knock",
   "metadata": {},
   "outputs": [],
   "source": [
    "\n",
    "def Mywordcloud(data):\n",
    "    wordcloud = WordCloud(\n",
    "        background_color='white',\n",
    "        stopwords=stopwords,\n",
    "        max_words=500,\n",
    "        max_font_size=40,\n",
    "        scale=3,\n",
    "        random_state=1\n",
    "    ).generate(str(data))\n",
    "    \n",
    "    fig = plt.figure(1, figsize=(40,40))\n",
    "    plt.axis('off')\n",
    "    \n",
    "    plt.imshow(wordcloud)\n",
    "    plt.show()"
   ]
  },
  {
   "cell_type": "code",
   "execution_count": null,
   "id": "consecutive-gender",
   "metadata": {},
   "outputs": [],
   "source": [
    "Mywordcloud(df['cleanedtext'].dropna)"
   ]
  },
  {
   "cell_type": "code",
   "execution_count": null,
   "id": "enormous-kitchen",
   "metadata": {},
   "outputs": [],
   "source": []
  },
  {
   "cell_type": "code",
   "execution_count": null,
   "id": "complimentary-booking",
   "metadata": {},
   "outputs": [],
   "source": []
  }
 ],
 "metadata": {
  "kernelspec": {
   "display_name": "Python 3",
   "language": "python",
   "name": "python3"
  },
  "language_info": {
   "codemirror_mode": {
    "name": "ipython",
    "version": 3
   },
   "file_extension": ".py",
   "mimetype": "text/x-python",
   "name": "python",
   "nbconvert_exporter": "python",
   "pygments_lexer": "ipython3",
   "version": "3.8.3"
  }
 },
 "nbformat": 4,
 "nbformat_minor": 5
}
